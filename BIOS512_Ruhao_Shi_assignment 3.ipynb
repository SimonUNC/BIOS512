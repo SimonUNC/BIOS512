{
 "cells": [
  {
   "cell_type": "markdown",
   "id": "e9216b63-c18a-4c9b-beff-4b6b2e1b6964",
   "metadata": {},
   "source": [
    "# BIOS512 Assignment #3"
   ]
  },
  {
   "cell_type": "markdown",
   "id": "4403015e-d27f-473c-8720-088ac6db57c9",
   "metadata": {},
   "source": [
    "Import the 📈Tidyverse into your `R` session"
   ]
  },
  {
   "cell_type": "code",
   "execution_count": 1,
   "id": "a104f913-9b3e-4cbe-b2e1-d3f46c4f6498",
   "metadata": {
    "tags": []
   },
   "outputs": [
    {
     "name": "stderr",
     "output_type": "stream",
     "text": [
      "── \u001b[1mAttaching core tidyverse packages\u001b[22m ──────────────────────── tidyverse 2.0.0 ──\n",
      "\u001b[32m✔\u001b[39m \u001b[34mdplyr    \u001b[39m 1.1.4     \u001b[32m✔\u001b[39m \u001b[34mreadr    \u001b[39m 2.1.5\n",
      "\u001b[32m✔\u001b[39m \u001b[34mforcats  \u001b[39m 1.0.0     \u001b[32m✔\u001b[39m \u001b[34mstringr  \u001b[39m 1.5.1\n",
      "\u001b[32m✔\u001b[39m \u001b[34mggplot2  \u001b[39m 3.5.1     \u001b[32m✔\u001b[39m \u001b[34mtibble   \u001b[39m 3.2.1\n",
      "\u001b[32m✔\u001b[39m \u001b[34mlubridate\u001b[39m 1.9.3     \u001b[32m✔\u001b[39m \u001b[34mtidyr    \u001b[39m 1.3.1\n",
      "\u001b[32m✔\u001b[39m \u001b[34mpurrr    \u001b[39m 1.0.2     \n",
      "── \u001b[1mConflicts\u001b[22m ────────────────────────────────────────── tidyverse_conflicts() ──\n",
      "\u001b[31m✖\u001b[39m \u001b[34mdplyr\u001b[39m::\u001b[32mfilter()\u001b[39m masks \u001b[34mstats\u001b[39m::filter()\n",
      "\u001b[31m✖\u001b[39m \u001b[34mdplyr\u001b[39m::\u001b[32mlag()\u001b[39m    masks \u001b[34mstats\u001b[39m::lag()\n",
      "\u001b[36mℹ\u001b[39m Use the conflicted package (\u001b[3m\u001b[34m<http://conflicted.r-lib.org/>\u001b[39m\u001b[23m) to force all conflicts to become errors\n"
     ]
    }
   ],
   "source": [
    "library('tidyverse')"
   ]
  },
  {
   "cell_type": "markdown",
   "id": "47ccf7f6-01c6-46b4-94a1-f8dcd8ef8377",
   "metadata": {},
   "source": [
    "In this assignment we'll be using data from the [TidyTuesday Project](https://github.com/rfordatascience/tidytuesday). Specifically, we'll investigate vaccination rates at US schools. A `CSV` file of the data is located at:  \n",
    "\n",
    "[https://github.com/rfordatascience/tidytuesday/blob/master/data/2020/2020-02-25/measles.csv](https://github.com/rfordatascience/tidytuesday/blob/master/data/2020/2020-02-25/measles.csv)\n",
    "\n",
    "Get the \"raw\" data URL and import it into your `R` session using `read_csv`. Remember to capture the data under a variable name of your choosing!"
   ]
  },
  {
   "cell_type": "code",
   "execution_count": 2,
   "id": "b5212525-bb72-482e-a5ba-1b500d21d16e",
   "metadata": {
    "tags": []
   },
   "outputs": [
    {
     "name": "stderr",
     "output_type": "stream",
     "text": [
      "\u001b[1mRows: \u001b[22m\u001b[34m66113\u001b[39m \u001b[1mColumns: \u001b[22m\u001b[34m16\u001b[39m\n",
      "\u001b[36m──\u001b[39m \u001b[1mColumn specification\u001b[22m \u001b[36m────────────────────────────────────────────────────────\u001b[39m\n",
      "\u001b[1mDelimiter:\u001b[22m \",\"\n",
      "\u001b[31mchr\u001b[39m (6): state, year, name, type, city, county\n",
      "\u001b[32mdbl\u001b[39m (8): index, enroll, mmr, overall, xmed, xper, lat, lng\n",
      "\u001b[33mlgl\u001b[39m (2): district, xrel\n",
      "\n",
      "\u001b[36mℹ\u001b[39m Use `spec()` to retrieve the full column specification for this data.\n",
      "\u001b[36mℹ\u001b[39m Specify the column types or set `show_col_types = FALSE` to quiet this message.\n"
     ]
    }
   ],
   "source": [
    "measles = read_csv('https://github.com/rfordatascience/tidytuesday/raw/refs/heads/master/data/2020/2020-02-25/measles.csv')"
   ]
  },
  {
   "cell_type": "code",
   "execution_count": 3,
   "id": "8de37571-29da-4393-b1eb-ca13fcd70fed",
   "metadata": {
    "tags": []
   },
   "outputs": [
    {
     "data": {
      "text/html": [
       "<table class=\"dataframe\">\n",
       "<caption>A tibble: 6 × 16</caption>\n",
       "<thead>\n",
       "\t<tr><th scope=col>index</th><th scope=col>state</th><th scope=col>year</th><th scope=col>name</th><th scope=col>type</th><th scope=col>city</th><th scope=col>county</th><th scope=col>district</th><th scope=col>enroll</th><th scope=col>mmr</th><th scope=col>overall</th><th scope=col>xrel</th><th scope=col>xmed</th><th scope=col>xper</th><th scope=col>lat</th><th scope=col>lng</th></tr>\n",
       "\t<tr><th scope=col>&lt;dbl&gt;</th><th scope=col>&lt;chr&gt;</th><th scope=col>&lt;chr&gt;</th><th scope=col>&lt;chr&gt;</th><th scope=col>&lt;chr&gt;</th><th scope=col>&lt;chr&gt;</th><th scope=col>&lt;chr&gt;</th><th scope=col>&lt;lgl&gt;</th><th scope=col>&lt;dbl&gt;</th><th scope=col>&lt;dbl&gt;</th><th scope=col>&lt;dbl&gt;</th><th scope=col>&lt;lgl&gt;</th><th scope=col>&lt;dbl&gt;</th><th scope=col>&lt;dbl&gt;</th><th scope=col>&lt;dbl&gt;</th><th scope=col>&lt;dbl&gt;</th></tr>\n",
       "</thead>\n",
       "<tbody>\n",
       "\t<tr><td>1</td><td>Arizona</td><td>2018-19</td><td>A J Mitchell Elementary                 </td><td>Public </td><td>Nogales</td><td>Santa Cruz</td><td>NA</td><td>51</td><td>100</td><td>-1</td><td>NA</td><td>  NA</td><td>  NA</td><td>31.34782</td><td>-110.9380</td></tr>\n",
       "\t<tr><td>2</td><td>Arizona</td><td>2018-19</td><td>Academy Del Sol                         </td><td>Charter</td><td>Tucson </td><td>Pima      </td><td>NA</td><td>22</td><td>100</td><td>-1</td><td>NA</td><td>  NA</td><td>  NA</td><td>32.22192</td><td>-110.8961</td></tr>\n",
       "\t<tr><td>3</td><td>Arizona</td><td>2018-19</td><td>Academy Del Sol - Hope                  </td><td>Charter</td><td>Tucson </td><td>Pima      </td><td>NA</td><td>85</td><td>100</td><td>-1</td><td>NA</td><td>  NA</td><td>  NA</td><td>32.13049</td><td>-111.1170</td></tr>\n",
       "\t<tr><td>4</td><td>Arizona</td><td>2018-19</td><td>Academy Of Mathematics And Science South</td><td>Charter</td><td>Phoenix</td><td>Maricopa  </td><td>NA</td><td>60</td><td>100</td><td>-1</td><td>NA</td><td>  NA</td><td>  NA</td><td>33.48545</td><td>-112.1306</td></tr>\n",
       "\t<tr><td>5</td><td>Arizona</td><td>2018-19</td><td>Acclaim Academy                         </td><td>Charter</td><td>Phoenix</td><td>Maricopa  </td><td>NA</td><td>43</td><td>100</td><td>-1</td><td>NA</td><td>2.33</td><td>2.33</td><td>33.49562</td><td>-112.2247</td></tr>\n",
       "\t<tr><td>6</td><td>Arizona</td><td>2018-19</td><td>Alfred F Garcia                         </td><td>Public </td><td>Phoenix</td><td>Maricopa  </td><td>NA</td><td>36</td><td>100</td><td>-1</td><td>NA</td><td>  NA</td><td>  NA</td><td>33.43532</td><td>-112.1168</td></tr>\n",
       "</tbody>\n",
       "</table>\n"
      ],
      "text/latex": [
       "A tibble: 6 × 16\n",
       "\\begin{tabular}{llllllllllllllll}\n",
       " index & state & year & name & type & city & county & district & enroll & mmr & overall & xrel & xmed & xper & lat & lng\\\\\n",
       " <dbl> & <chr> & <chr> & <chr> & <chr> & <chr> & <chr> & <lgl> & <dbl> & <dbl> & <dbl> & <lgl> & <dbl> & <dbl> & <dbl> & <dbl>\\\\\n",
       "\\hline\n",
       "\t 1 & Arizona & 2018-19 & A J Mitchell Elementary                  & Public  & Nogales & Santa Cruz & NA & 51 & 100 & -1 & NA &   NA &   NA & 31.34782 & -110.9380\\\\\n",
       "\t 2 & Arizona & 2018-19 & Academy Del Sol                          & Charter & Tucson  & Pima       & NA & 22 & 100 & -1 & NA &   NA &   NA & 32.22192 & -110.8961\\\\\n",
       "\t 3 & Arizona & 2018-19 & Academy Del Sol - Hope                   & Charter & Tucson  & Pima       & NA & 85 & 100 & -1 & NA &   NA &   NA & 32.13049 & -111.1170\\\\\n",
       "\t 4 & Arizona & 2018-19 & Academy Of Mathematics And Science South & Charter & Phoenix & Maricopa   & NA & 60 & 100 & -1 & NA &   NA &   NA & 33.48545 & -112.1306\\\\\n",
       "\t 5 & Arizona & 2018-19 & Acclaim Academy                          & Charter & Phoenix & Maricopa   & NA & 43 & 100 & -1 & NA & 2.33 & 2.33 & 33.49562 & -112.2247\\\\\n",
       "\t 6 & Arizona & 2018-19 & Alfred F Garcia                          & Public  & Phoenix & Maricopa   & NA & 36 & 100 & -1 & NA &   NA &   NA & 33.43532 & -112.1168\\\\\n",
       "\\end{tabular}\n"
      ],
      "text/markdown": [
       "\n",
       "A tibble: 6 × 16\n",
       "\n",
       "| index &lt;dbl&gt; | state &lt;chr&gt; | year &lt;chr&gt; | name &lt;chr&gt; | type &lt;chr&gt; | city &lt;chr&gt; | county &lt;chr&gt; | district &lt;lgl&gt; | enroll &lt;dbl&gt; | mmr &lt;dbl&gt; | overall &lt;dbl&gt; | xrel &lt;lgl&gt; | xmed &lt;dbl&gt; | xper &lt;dbl&gt; | lat &lt;dbl&gt; | lng &lt;dbl&gt; |\n",
       "|---|---|---|---|---|---|---|---|---|---|---|---|---|---|---|---|\n",
       "| 1 | Arizona | 2018-19 | A J Mitchell Elementary                  | Public  | Nogales | Santa Cruz | NA | 51 | 100 | -1 | NA |   NA |   NA | 31.34782 | -110.9380 |\n",
       "| 2 | Arizona | 2018-19 | Academy Del Sol                          | Charter | Tucson  | Pima       | NA | 22 | 100 | -1 | NA |   NA |   NA | 32.22192 | -110.8961 |\n",
       "| 3 | Arizona | 2018-19 | Academy Del Sol - Hope                   | Charter | Tucson  | Pima       | NA | 85 | 100 | -1 | NA |   NA |   NA | 32.13049 | -111.1170 |\n",
       "| 4 | Arizona | 2018-19 | Academy Of Mathematics And Science South | Charter | Phoenix | Maricopa   | NA | 60 | 100 | -1 | NA |   NA |   NA | 33.48545 | -112.1306 |\n",
       "| 5 | Arizona | 2018-19 | Acclaim Academy                          | Charter | Phoenix | Maricopa   | NA | 43 | 100 | -1 | NA | 2.33 | 2.33 | 33.49562 | -112.2247 |\n",
       "| 6 | Arizona | 2018-19 | Alfred F Garcia                          | Public  | Phoenix | Maricopa   | NA | 36 | 100 | -1 | NA |   NA |   NA | 33.43532 | -112.1168 |\n",
       "\n"
      ],
      "text/plain": [
       "  index state   year    name                                     type   \n",
       "1 1     Arizona 2018-19 A J Mitchell Elementary                  Public \n",
       "2 2     Arizona 2018-19 Academy Del Sol                          Charter\n",
       "3 3     Arizona 2018-19 Academy Del Sol - Hope                   Charter\n",
       "4 4     Arizona 2018-19 Academy Of Mathematics And Science South Charter\n",
       "5 5     Arizona 2018-19 Acclaim Academy                          Charter\n",
       "6 6     Arizona 2018-19 Alfred F Garcia                          Public \n",
       "  city    county     district enroll mmr overall xrel xmed xper lat     \n",
       "1 Nogales Santa Cruz NA       51     100 -1      NA     NA   NA 31.34782\n",
       "2 Tucson  Pima       NA       22     100 -1      NA     NA   NA 32.22192\n",
       "3 Tucson  Pima       NA       85     100 -1      NA     NA   NA 32.13049\n",
       "4 Phoenix Maricopa   NA       60     100 -1      NA     NA   NA 33.48545\n",
       "5 Phoenix Maricopa   NA       43     100 -1      NA   2.33 2.33 33.49562\n",
       "6 Phoenix Maricopa   NA       36     100 -1      NA     NA   NA 33.43532\n",
       "  lng      \n",
       "1 -110.9380\n",
       "2 -110.8961\n",
       "3 -111.1170\n",
       "4 -112.1306\n",
       "5 -112.2247\n",
       "6 -112.1168"
      ]
     },
     "metadata": {},
     "output_type": "display_data"
    }
   ],
   "source": [
    "measles |> head()"
   ]
  },
  {
   "cell_type": "markdown",
   "id": "feb89cec-8cda-457d-95cf-89dbfa932ab4",
   "metadata": {},
   "source": [
    "The `mmr` column has holds 🤒 measles, mumps, rubella 🤒 vaccination rates for students in each respective school. **If the `mmr` value is not available for a school the `mmr` value is set to -1 in this data set.** \n",
    "\n",
    "The target `mmr` vaccination rate as [recommended by the CDC](https://www.cdc.gov/mmwr/preview/mmwrhtml/mm5632a3.htm) for schools is 95%. \n",
    "\n",
    "**Calculate the fraction of schools per state that have vaccination rates greater than the CDC 95%. Capture the output as a table called `df_vacc_rates`.**\n",
    "\n",
    "You'll need to do use `filter`, `group_by`, and `summarize`. \n",
    "\n",
    "I.e.\n",
    "1. Filter out schools that don't report `mmr` vaccination rate (keep schools where `mmr >= 0`).\n",
    "1. Group the data by `state`.\n",
    "1. Summarize fracion of vaccination rates above 95%.\n",
    "\n",
    "💡Remember `n()` stands for the number or records in a group. Also, `sum(mmr >= 95, na.rm=TRUE)` will count the number of values above or equal to 95.💡"
   ]
  },
  {
   "cell_type": "code",
   "execution_count": 4,
   "id": "0ba9a861-00fc-4392-a67d-cddbd5a994e0",
   "metadata": {
    "tags": []
   },
   "outputs": [
    {
     "data": {
      "text/html": [
       "<table class=\"dataframe\">\n",
       "<caption>A tibble: 21 × 2</caption>\n",
       "<thead>\n",
       "\t<tr><th scope=col>state</th><th scope=col>df_vacc_rates</th></tr>\n",
       "\t<tr><th scope=col>&lt;chr&gt;</th><th scope=col>&lt;dbl&gt;</th></tr>\n",
       "</thead>\n",
       "<tbody>\n",
       "\t<tr><td>Arizona      </td><td>0.506404782</td></tr>\n",
       "\t<tr><td>Arkansas     </td><td>0.003527337</td></tr>\n",
       "\t<tr><td>California   </td><td>0.888506151</td></tr>\n",
       "\t<tr><td>Colorado     </td><td>0.623092236</td></tr>\n",
       "\t<tr><td>Connecticut  </td><td>0.811544992</td></tr>\n",
       "\t<tr><td>Illinois     </td><td>0.896825397</td></tr>\n",
       "\t<tr><td>Maine        </td><td>0.473389356</td></tr>\n",
       "\t<tr><td>Massachusetts</td><td>0.865828092</td></tr>\n",
       "\t<tr><td>Minnesota    </td><td>0.473948525</td></tr>\n",
       "\t<tr><td>Missouri     </td><td>0.680000000</td></tr>\n",
       "\t<tr><td>Montana      </td><td>0.708812261</td></tr>\n",
       "\t<tr><td>New York     </td><td>0.859822073</td></tr>\n",
       "\t<tr><td>North Dakota </td><td>0.455555556</td></tr>\n",
       "\t<tr><td>Ohio         </td><td>0.491606715</td></tr>\n",
       "\t<tr><td>Oregon       </td><td>0.593052109</td></tr>\n",
       "\t<tr><td>Pennsylvania </td><td>0.834966478</td></tr>\n",
       "\t<tr><td>South Dakota </td><td>0.742627346</td></tr>\n",
       "\t<tr><td>Texas        </td><td>0.626387176</td></tr>\n",
       "\t<tr><td>Utah         </td><td>0.679933665</td></tr>\n",
       "\t<tr><td>Vermont      </td><td>0.683431953</td></tr>\n",
       "\t<tr><td>Washington   </td><td>0.326592518</td></tr>\n",
       "</tbody>\n",
       "</table>\n"
      ],
      "text/latex": [
       "A tibble: 21 × 2\n",
       "\\begin{tabular}{ll}\n",
       " state & df\\_vacc\\_rates\\\\\n",
       " <chr> & <dbl>\\\\\n",
       "\\hline\n",
       "\t Arizona       & 0.506404782\\\\\n",
       "\t Arkansas      & 0.003527337\\\\\n",
       "\t California    & 0.888506151\\\\\n",
       "\t Colorado      & 0.623092236\\\\\n",
       "\t Connecticut   & 0.811544992\\\\\n",
       "\t Illinois      & 0.896825397\\\\\n",
       "\t Maine         & 0.473389356\\\\\n",
       "\t Massachusetts & 0.865828092\\\\\n",
       "\t Minnesota     & 0.473948525\\\\\n",
       "\t Missouri      & 0.680000000\\\\\n",
       "\t Montana       & 0.708812261\\\\\n",
       "\t New York      & 0.859822073\\\\\n",
       "\t North Dakota  & 0.455555556\\\\\n",
       "\t Ohio          & 0.491606715\\\\\n",
       "\t Oregon        & 0.593052109\\\\\n",
       "\t Pennsylvania  & 0.834966478\\\\\n",
       "\t South Dakota  & 0.742627346\\\\\n",
       "\t Texas         & 0.626387176\\\\\n",
       "\t Utah          & 0.679933665\\\\\n",
       "\t Vermont       & 0.683431953\\\\\n",
       "\t Washington    & 0.326592518\\\\\n",
       "\\end{tabular}\n"
      ],
      "text/markdown": [
       "\n",
       "A tibble: 21 × 2\n",
       "\n",
       "| state &lt;chr&gt; | df_vacc_rates &lt;dbl&gt; |\n",
       "|---|---|\n",
       "| Arizona       | 0.506404782 |\n",
       "| Arkansas      | 0.003527337 |\n",
       "| California    | 0.888506151 |\n",
       "| Colorado      | 0.623092236 |\n",
       "| Connecticut   | 0.811544992 |\n",
       "| Illinois      | 0.896825397 |\n",
       "| Maine         | 0.473389356 |\n",
       "| Massachusetts | 0.865828092 |\n",
       "| Minnesota     | 0.473948525 |\n",
       "| Missouri      | 0.680000000 |\n",
       "| Montana       | 0.708812261 |\n",
       "| New York      | 0.859822073 |\n",
       "| North Dakota  | 0.455555556 |\n",
       "| Ohio          | 0.491606715 |\n",
       "| Oregon        | 0.593052109 |\n",
       "| Pennsylvania  | 0.834966478 |\n",
       "| South Dakota  | 0.742627346 |\n",
       "| Texas         | 0.626387176 |\n",
       "| Utah          | 0.679933665 |\n",
       "| Vermont       | 0.683431953 |\n",
       "| Washington    | 0.326592518 |\n",
       "\n"
      ],
      "text/plain": [
       "   state         df_vacc_rates\n",
       "1  Arizona       0.506404782  \n",
       "2  Arkansas      0.003527337  \n",
       "3  California    0.888506151  \n",
       "4  Colorado      0.623092236  \n",
       "5  Connecticut   0.811544992  \n",
       "6  Illinois      0.896825397  \n",
       "7  Maine         0.473389356  \n",
       "8  Massachusetts 0.865828092  \n",
       "9  Minnesota     0.473948525  \n",
       "10 Missouri      0.680000000  \n",
       "11 Montana       0.708812261  \n",
       "12 New York      0.859822073  \n",
       "13 North Dakota  0.455555556  \n",
       "14 Ohio          0.491606715  \n",
       "15 Oregon        0.593052109  \n",
       "16 Pennsylvania  0.834966478  \n",
       "17 South Dakota  0.742627346  \n",
       "18 Texas         0.626387176  \n",
       "19 Utah          0.679933665  \n",
       "20 Vermont       0.683431953  \n",
       "21 Washington    0.326592518  "
      ]
     },
     "metadata": {},
     "output_type": "display_data"
    }
   ],
   "source": [
    "# create the df_vacc_rates here\n",
    "measles |>\n",
    "    filter(mmr >= 0) |>\n",
    "    group_by(state) |>\n",
    "    summarize(df_vacc_rates = sum(mmr >= 95, na.rm = FALSE)/n())\n"
   ]
  },
  {
   "cell_type": "markdown",
   "id": "900ddf7f-d801-4a70-9453-73bdd3277344",
   "metadata": {},
   "source": [
    "Which state (of those that report `mmr`) has the smallest fraction of schools above the CDC target vaccination rate of 95%?  "
   ]
  },
  {
   "cell_type": "code",
   "execution_count": 8,
   "id": "13812611-a534-46c2-aae6-0f6c645273e0",
   "metadata": {
    "tags": []
   },
   "outputs": [
    {
     "data": {
      "text/html": [
       "<table class=\"dataframe\">\n",
       "<caption>A tibble: 21 × 2</caption>\n",
       "<thead>\n",
       "\t<tr><th scope=col>state</th><th scope=col>df_vacc_rates</th></tr>\n",
       "\t<tr><th scope=col>&lt;chr&gt;</th><th scope=col>&lt;dbl&gt;</th></tr>\n",
       "</thead>\n",
       "<tbody>\n",
       "\t<tr><td>Arkansas     </td><td>0.003527337</td></tr>\n",
       "\t<tr><td>Washington   </td><td>0.326592518</td></tr>\n",
       "\t<tr><td>North Dakota </td><td>0.455555556</td></tr>\n",
       "\t<tr><td>Maine        </td><td>0.473389356</td></tr>\n",
       "\t<tr><td>Minnesota    </td><td>0.473948525</td></tr>\n",
       "\t<tr><td>Ohio         </td><td>0.491606715</td></tr>\n",
       "\t<tr><td>Arizona      </td><td>0.506404782</td></tr>\n",
       "\t<tr><td>Oregon       </td><td>0.593052109</td></tr>\n",
       "\t<tr><td>Colorado     </td><td>0.623092236</td></tr>\n",
       "\t<tr><td>Texas        </td><td>0.626387176</td></tr>\n",
       "\t<tr><td>Utah         </td><td>0.679933665</td></tr>\n",
       "\t<tr><td>Missouri     </td><td>0.680000000</td></tr>\n",
       "\t<tr><td>Vermont      </td><td>0.683431953</td></tr>\n",
       "\t<tr><td>Montana      </td><td>0.708812261</td></tr>\n",
       "\t<tr><td>South Dakota </td><td>0.742627346</td></tr>\n",
       "\t<tr><td>Connecticut  </td><td>0.811544992</td></tr>\n",
       "\t<tr><td>Pennsylvania </td><td>0.834966478</td></tr>\n",
       "\t<tr><td>New York     </td><td>0.859822073</td></tr>\n",
       "\t<tr><td>Massachusetts</td><td>0.865828092</td></tr>\n",
       "\t<tr><td>California   </td><td>0.888506151</td></tr>\n",
       "\t<tr><td>Illinois     </td><td>0.896825397</td></tr>\n",
       "</tbody>\n",
       "</table>\n"
      ],
      "text/latex": [
       "A tibble: 21 × 2\n",
       "\\begin{tabular}{ll}\n",
       " state & df\\_vacc\\_rates\\\\\n",
       " <chr> & <dbl>\\\\\n",
       "\\hline\n",
       "\t Arkansas      & 0.003527337\\\\\n",
       "\t Washington    & 0.326592518\\\\\n",
       "\t North Dakota  & 0.455555556\\\\\n",
       "\t Maine         & 0.473389356\\\\\n",
       "\t Minnesota     & 0.473948525\\\\\n",
       "\t Ohio          & 0.491606715\\\\\n",
       "\t Arizona       & 0.506404782\\\\\n",
       "\t Oregon        & 0.593052109\\\\\n",
       "\t Colorado      & 0.623092236\\\\\n",
       "\t Texas         & 0.626387176\\\\\n",
       "\t Utah          & 0.679933665\\\\\n",
       "\t Missouri      & 0.680000000\\\\\n",
       "\t Vermont       & 0.683431953\\\\\n",
       "\t Montana       & 0.708812261\\\\\n",
       "\t South Dakota  & 0.742627346\\\\\n",
       "\t Connecticut   & 0.811544992\\\\\n",
       "\t Pennsylvania  & 0.834966478\\\\\n",
       "\t New York      & 0.859822073\\\\\n",
       "\t Massachusetts & 0.865828092\\\\\n",
       "\t California    & 0.888506151\\\\\n",
       "\t Illinois      & 0.896825397\\\\\n",
       "\\end{tabular}\n"
      ],
      "text/markdown": [
       "\n",
       "A tibble: 21 × 2\n",
       "\n",
       "| state &lt;chr&gt; | df_vacc_rates &lt;dbl&gt; |\n",
       "|---|---|\n",
       "| Arkansas      | 0.003527337 |\n",
       "| Washington    | 0.326592518 |\n",
       "| North Dakota  | 0.455555556 |\n",
       "| Maine         | 0.473389356 |\n",
       "| Minnesota     | 0.473948525 |\n",
       "| Ohio          | 0.491606715 |\n",
       "| Arizona       | 0.506404782 |\n",
       "| Oregon        | 0.593052109 |\n",
       "| Colorado      | 0.623092236 |\n",
       "| Texas         | 0.626387176 |\n",
       "| Utah          | 0.679933665 |\n",
       "| Missouri      | 0.680000000 |\n",
       "| Vermont       | 0.683431953 |\n",
       "| Montana       | 0.708812261 |\n",
       "| South Dakota  | 0.742627346 |\n",
       "| Connecticut   | 0.811544992 |\n",
       "| Pennsylvania  | 0.834966478 |\n",
       "| New York      | 0.859822073 |\n",
       "| Massachusetts | 0.865828092 |\n",
       "| California    | 0.888506151 |\n",
       "| Illinois      | 0.896825397 |\n",
       "\n"
      ],
      "text/plain": [
       "   state         df_vacc_rates\n",
       "1  Arkansas      0.003527337  \n",
       "2  Washington    0.326592518  \n",
       "3  North Dakota  0.455555556  \n",
       "4  Maine         0.473389356  \n",
       "5  Minnesota     0.473948525  \n",
       "6  Ohio          0.491606715  \n",
       "7  Arizona       0.506404782  \n",
       "8  Oregon        0.593052109  \n",
       "9  Colorado      0.623092236  \n",
       "10 Texas         0.626387176  \n",
       "11 Utah          0.679933665  \n",
       "12 Missouri      0.680000000  \n",
       "13 Vermont       0.683431953  \n",
       "14 Montana       0.708812261  \n",
       "15 South Dakota  0.742627346  \n",
       "16 Connecticut   0.811544992  \n",
       "17 Pennsylvania  0.834966478  \n",
       "18 New York      0.859822073  \n",
       "19 Massachusetts 0.865828092  \n",
       "20 California    0.888506151  \n",
       "21 Illinois      0.896825397  "
      ]
     },
     "metadata": {},
     "output_type": "display_data"
    }
   ],
   "source": [
    "measles |>\n",
    "    filter(mmr >= 0) |>\n",
    "    group_by(state) |>\n",
    "    summarize(df_vacc_rates = sum(mmr >= 95, na.rm = FALSE)/n()) |>\n",
    "    arrange(df_vacc_rates)"
   ]
  },
  {
   "cell_type": "markdown",
   "id": "74a9a9f6-369f-4da6-9125-ccf4b87ef3cc",
   "metadata": {},
   "source": [
    "Arkansas has the smallest fraction of schools above the CDC target vaccination rate of 95%."
   ]
  },
  {
   "cell_type": "markdown",
   "id": "2866ca03-1f87-466e-ab0a-dd69140496e6",
   "metadata": {},
   "source": [
    "**Make a ECDF plot of the school vaccination rates in North Carolina.** Use the `overall` column which reports the \"overall\" vaccination rate at each school.\n",
    "\n",
    "❗️Remember, you can calculate the `y` value for ECDF charts using `mutate`, and `cume_dist`."
   ]
  },
  {
   "cell_type": "code",
   "execution_count": 22,
   "id": "478c5949-b5cb-4a4c-9915-6201427248c1",
   "metadata": {
    "tags": []
   },
   "outputs": [
    {
     "data": {
      "image/png": "[encoded data removed]",
      "text/plain": [
       "plot without title"
      ]
     },
     "metadata": {
      "image/png": {
       "height": 420,
       "width": 420
      }
     },
     "output_type": "display_data"
    }
   ],
   "source": [
    "rate_NC = \n",
    "    measles |>\n",
    "        filter(state == 'North Carolina') |>\n",
    "        filter(overall >= 0) |> \n",
    "        mutate(y_NC = cume_dist(overall))\n",
    "ggplot(rate_NC, aes(x = overall, y = y_NC)) + geom_line() +\n",
    "    labs(x = \"Vaccination Rate (%)\", y = \"Fraction of Schools\")"
   ]
  },
  {
   "cell_type": "markdown",
   "id": "8f5ea83f-c904-46ee-9f52-af1bd1afbc96",
   "metadata": {},
   "source": [
    "(My solution is below if you want to peek 👀. Uncomment the code, change the cell to `markdown`, and exectute it. I used `geom_text_repel` from [ggrepel](https://cran.r-project.org/web/packages/ggrepel/vignettes/ggrepel.html) fo the annotation.)"
   ]
  },
  {
   "cell_type": "markdown",
   "id": "28c8ae2d-23a9-4773-9ce3-c0b50ca6ef8d",
   "metadata": {},
   "source": [
    "![](https://github.com/chuckpr/BIOS512/blob/main/assignments/2023/measles-chart.png?raw=true)"
   ]
  },
  {
   "cell_type": "markdown",
   "id": "d2041941-dcee-42e8-957f-a725dc36388f",
   "metadata": {},
   "source": [
    "Is the median vaccination rate for NC schools above the CDC recommended target?"
   ]
  },
  {
   "cell_type": "code",
   "execution_count": 24,
   "id": "be2ea536-f8ed-486d-b6e3-9853ac2b01d0",
   "metadata": {
    "tags": []
   },
   "outputs": [
    {
     "data": {
      "text/html": [
       "<table class=\"dataframe\">\n",
       "<caption>A tibble: 1 × 1</caption>\n",
       "<thead>\n",
       "\t<tr><th scope=col>median_vacc_rate</th></tr>\n",
       "\t<tr><th scope=col>&lt;dbl&gt;</th></tr>\n",
       "</thead>\n",
       "<tbody>\n",
       "\t<tr><td>100</td></tr>\n",
       "</tbody>\n",
       "</table>\n"
      ],
      "text/latex": [
       "A tibble: 1 × 1\n",
       "\\begin{tabular}{l}\n",
       " median\\_vacc\\_rate\\\\\n",
       " <dbl>\\\\\n",
       "\\hline\n",
       "\t 100\\\\\n",
       "\\end{tabular}\n"
      ],
      "text/markdown": [
       "\n",
       "A tibble: 1 × 1\n",
       "\n",
       "| median_vacc_rate &lt;dbl&gt; |\n",
       "|---|\n",
       "| 100 |\n",
       "\n"
      ],
      "text/plain": [
       "  median_vacc_rate\n",
       "1 100             "
      ]
     },
     "metadata": {},
     "output_type": "display_data"
    }
   ],
   "source": [
    "measles |>\n",
    "    filter(state == 'North Carolina') |>\n",
    "    filter(overall >= 0) |>\n",
    "    summarize(median_vacc_rate = median(overall,na.rm = TRUE))\n"
   ]
  },
  {
   "cell_type": "markdown",
   "id": "7585d183-0426-4e41-8574-9c4f7390426f",
   "metadata": {},
   "source": [
    "Yes, the median vaccination rate for NC schools is 100%, which is greater than the CDC recommended target of 95%."
   ]
  }
 ],
 "metadata": {
  "kernelspec": {
   "display_name": ".conda-bios512:R",
   "language": "R",
   "name": "conda-env-.conda-bios512-r"
  },
  "language_info": {
   "codemirror_mode": "r",
   "file_extension": ".r",
   "mimetype": "text/x-r-source",
   "name": "R",
   "pygments_lexer": "r",
   "version": "4.4.1"
  }
 },
 "nbformat": 4,
 "nbformat_minor": 5
}
